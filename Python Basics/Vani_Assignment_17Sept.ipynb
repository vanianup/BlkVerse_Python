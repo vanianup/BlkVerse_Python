{
  "nbformat": 4,
  "nbformat_minor": 0,
  "metadata": {
    "colab": {
      "provenance": []
    },
    "kernelspec": {
      "name": "python3",
      "display_name": "Python 3"
    },
    "language_info": {
      "name": "python"
    }
  },
  "cells": [
    {
      "cell_type": "markdown",
      "source": [],
      "metadata": {
        "id": "AgOZ9Qd4tOAc"
      }
    },
    {
      "cell_type": "markdown",
      "source": [
        "Assignment:Create a mving rating log using oops concept  for rating the movies (you can use attributes like  movienames, tory rating, actor rating, music rating and overall avg rating)\n"
      ],
      "metadata": {
        "id": "AnVDwID5tWzd"
      }
    },
    {
      "cell_type": "code",
      "source": [
        "from statistics import mean\n",
        "# define the class movie_rating\n",
        "class movie_rating:\n",
        "  #define class attributes\n",
        "  def __init__(self,name,story,actor,music):\n",
        "     self.movie_name=name\n",
        "     self.story_rating=story\n",
        "     self.actor_rating=actor\n",
        "     self.music_rating=music\n",
        "     self.overall_avg_rating=round(mean([story,actor,music]),1)\n",
        "     self.rating = {\n",
        "         \"name\":self.movie_name,\n",
        "         \"story\":self.story_rating,\n",
        "         \"actor\":self.actor_rating,\n",
        "         \"music\":self.music_rating,\n",
        "         \"overall_avg\":self.overall_avg_rating\n",
        "         }\n",
        "  def add_movie_ratings(self,movie_list):\n",
        "    movie_list.append(self.rating)\n",
        "#create a list of movie ratings\n",
        "movie_rating_list=[]\n",
        "\n",
        "new_rating=movie_rating(\"Spider Man\",8,6,5)\n",
        "\n",
        "\n",
        "new_rating.add_movie_ratings(movie_rating_list)\n",
        "print(movie_rating_list)\n"
      ],
      "metadata": {
        "id": "StfxJazWtZ6Z",
        "colab": {
          "base_uri": "https://localhost:8080/"
        },
        "outputId": "98474b7f-34d3-4a2c-bc62-444bb73256ec"
      },
      "execution_count": 3,
      "outputs": [
        {
          "output_type": "stream",
          "name": "stdout",
          "text": [
            "[{'name': 'Spider Man', 'story': 8, 'actor': 6, 'music': 5, 'overall_avg': 6.3}]\n"
          ]
        }
      ]
    }
  ]
}