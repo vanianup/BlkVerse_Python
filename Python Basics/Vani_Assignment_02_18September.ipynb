{
 "cells": [
  {
   "cell_type": "code",
   "execution_count": null,
   "id": "f465f6b0",
   "metadata": {},
   "outputs": [],
   "source": [
    "import string\n",
    "import random\n",
    "\n",
    "pas_array=[[[list(string.ascii_lowercase)],[list(string.ascii_uppercase)],[list(string.digits)],[list(string.punctuation)]]]\n",
    "\n",
    "try:\n",
    "    pass_len= int(input('Enter the length of your password'))\n",
    "\n",
    "    # 60% of the password are alphabets , 20% are digits and 20% are special characters\n",
    "    alpha_len = round(pass_len*0.3)\n",
    "    dig_len = round(pass_len*0.2)\n",
    "    schar_len = round(pass_len*0.2)\n",
    "\n",
    "    # adjust the rounding errors \n",
    "    if ((alpha_len*2+dig_len+schar_len)>pass_len):\n",
    "        schar_len = schar_len -1\n",
    "    elif ((alpha_len*2+dig_len+schar_len)<pass_len):\n",
    "        dig_len = dig_len + 1\n",
    "\n",
    "    passwrd_lcase = random.sample(pas_array[0][0][0],alpha_len)\n",
    "    passwrd_ucase = random.sample(pas_array[0][1][0],alpha_len)\n",
    "    passwrd_digit = random.sample(pas_array[0][2][0],dig_len)\n",
    "    passwrd_schar = random.sample(pas_array[0][3][0],schar_len)\n",
    "    passwrd= passwrd_lcase+passwrd_ucase+passwrd_digit+passwrd_schar\n",
    "    random.shuffle(passwrd)\n",
    "    passwrd = ''.join(passwrd)\n",
    "    print('Your password is: ',passwrd)\n",
    "\n",
    "except:\n",
    "    print('Invalid password length entered')\n",
    "    \n",
    "\n"
   ]
  }
 ],
 "metadata": {
  "kernelspec": {
   "display_name": "Python 3",
   "language": "python",
   "name": "python3"
  },
  "language_info": {
   "codemirror_mode": {
    "name": "ipython",
    "version": 3
   },
   "file_extension": ".py",
   "mimetype": "text/x-python",
   "name": "python",
   "nbconvert_exporter": "python",
   "pygments_lexer": "ipython3",
   "version": "3.8.8"
  }
 },
 "nbformat": 4,
 "nbformat_minor": 5
}
