{
  "nbformat": 4,
  "nbformat_minor": 0,
  "metadata": {
    "colab": {
      "provenance": []
    },
    "kernelspec": {
      "name": "python3",
      "display_name": "Python 3"
    },
    "language_info": {
      "name": "python"
    }
  },
  "cells": [
    {
      "cell_type": "markdown",
      "source": [
        "10-Sept : Assignment : Print all the numbers in a given range which are divisible by a given number. The divisor is a user input."
      ],
      "metadata": {
        "id": "42PyYUhVDHGa"
      }
    },
    {
      "cell_type": "code",
      "execution_count": null,
      "metadata": {
        "id": "sTC_vIYMC9wR"
      },
      "outputs": [],
      "source": [
        "#Accept the range of numbers and the divisor as user input\n",
        "range_init = int(input('Enter the first number for your range: '))\n",
        "range_end = int(input('Enter the last number for your range: '))\n",
        "divisor = int(input('Enter the divisor(non zero integer: '))\n",
        "#initialise the list of values that are divisible by divisor\n",
        "listnum = []\n",
        "# raise exception in case the divisor is 0\n",
        "try:\n",
        "  for i in (setrange(range_init,range_end)):\n",
        "    if (i%divisor==0):\n",
        "      listnum.append(i)\n",
        "  print('list of numbers divisible by',divisor,':',listnum)\n",
        "except:\n",
        "  print(\"Invalid divisor\",divisor)\n",
        "\n",
        "#function to return the range of values based on whether the range is in ascending or descending order\n",
        "def setrange(i,f):\n",
        "  if (i>f):\n",
        "    return(range(i,f,-1))\n",
        "  else:\n",
        "    return(range(i,f))\n",
        "\n",
        ""
      ]
    },
    {
      "cell_type": "markdown",
      "source": [
        "11-Sept : Assignment : Write a python program to write your name diagonally within a grid of star pattern"
      ],
      "metadata": {
        "id": "Ky5sLfwjRBuX"
      }
    },
    {
      "cell_type": "code",
      "source": [
        "name=input(\"Enter your name:\")\n",
        "name_len = len(name)\n",
        "\n",
        "for i in range(0,name_len):\n",
        "\n",
        "  for j in range(0,name_len):\n",
        "    if i==j:\n",
        "      print(name[i],end=\" \")\n",
        "    else:\n",
        "      print(\"*\", end=\" \")\n",
        "\n",
        "  print(\"\")"
      ],
      "metadata": {
        "colab": {
          "base_uri": "https://localhost:8080/"
        },
        "id": "PY5OWofzss02",
        "outputId": "4a5864b6-8651-479e-b97b-c80a8d97520c"
      },
      "execution_count": 23,
      "outputs": [
        {
          "output_type": "stream",
          "name": "stdout",
          "text": [
            "Enter your name:Tejaswini\n",
            "T * * * * * * * * \n",
            "* e * * * * * * * \n",
            "* * j * * * * * * \n",
            "* * * a * * * * * \n",
            "* * * * s * * * * \n",
            "* * * * * w * * * \n",
            "* * * * * * i * * \n",
            "* * * * * * * n * \n",
            "* * * * * * * * i \n"
          ]
        }
      ]
    }
  ]
}